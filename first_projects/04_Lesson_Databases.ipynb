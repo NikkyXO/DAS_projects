{
  "cells": [
    {
      "cell_type": "markdown",
      "metadata": {
        "id": "view-in-github",
        "colab_type": "text"
      },
      "source": [
        "<a href=\"https://colab.research.google.com/github/NikkyXO/DAS_projects/blob/main/first_projects/04_Lesson_Databases.ipynb\" target=\"_parent\"><img src=\"https://colab.research.google.com/assets/colab-badge.svg\" alt=\"Open In Colab\"/></a>"
      ]
    },
    {
      "cell_type": "markdown",
      "id": "b6debaac",
      "metadata": {
        "id": "b6debaac"
      },
      "source": [
        "# Databases"
      ]
    },
    {
      "cell_type": "markdown",
      "id": "a560dd75",
      "metadata": {
        "id": "a560dd75"
      },
      "source": [
        "![Data Science Workflow](img/ds-workflow.png)"
      ]
    },
    {
      "cell_type": "markdown",
      "id": "c25bb04b",
      "metadata": {
        "id": "c25bb04b"
      },
      "source": [
        "## Acquire Data\n",
        "### Common Data Sources\n",
        "- The Internet - Web Scraping\n",
        "- **Databases**\n",
        "- CSV\n",
        "- Excel\n",
        "- Parquet"
      ]
    },
    {
      "cell_type": "markdown",
      "id": "bfa4218b",
      "metadata": {
        "id": "bfa4218b"
      },
      "source": [
        "### Database\n",
        "- **Relational databases** models data in rows and columns in a series of tables.\n",
        "- Like a collection of **DataFrames/Excel sheets**.\n",
        "- **SQL** (often pronounced *sequel*): Structured Query Language\n",
        "- Non-relational databases [NoSQL](https://en.wikipedia.org/wiki/NoSQL)"
      ]
    },
    {
      "cell_type": "markdown",
      "id": "d9874702",
      "metadata": {
        "id": "d9874702"
      },
      "source": [
        "### SQLite database\n",
        "- [SQLite database](https://www.sqlite.org/index.html) software library that provides a relational database management system\n",
        "- Lightweight to setup, administrate, and requires low resources."
      ]
    },
    {
      "cell_type": "markdown",
      "id": "6d7f352f",
      "metadata": {
        "id": "6d7f352f"
      },
      "source": [
        "### Dataset (in a SQLite database)\n",
        "- Dallas Police Officer-Involved Shootings\n",
        "- Has three tables: **incidents, officers, subjects**\n",
        "\n",
        "#### Other SQLite datasets\n",
        "- [SQLite Data Starter Packs](http://2016.padjo.org/tutorials/sqlite-data-starterpacks/)\n",
        "- [Iris Species (Kaggle)](https://www.kaggle.com/uciml/iris)\n",
        "- [European Soccer Database (Kaggle)](https://www.kaggle.com/hugomathien/soccer)"
      ]
    },
    {
      "cell_type": "markdown",
      "id": "2a4264e0",
      "metadata": {
        "id": "2a4264e0"
      },
      "source": [
        "### Database connector\n",
        "- The [sqlite3](https://docs.python.org/3/library/sqlite3.html) is an interface for SQLite databases.\n",
        "- No installation needed.\n",
        "\n",
        "#### Other database connectors for Python\n",
        "* [MySQL Connector](https://dev.mysql.com/doc/connector-python/en/) for MySQL\n",
        "* [Psycopg](http://initd.org/psycopg/docs/install.html) for PostgreSQL\n",
        "* [pymssql](http://pymssql.org/en/stable/) for Microsoft MS SQL"
      ]
    },
    {
      "cell_type": "markdown",
      "id": "f6779643",
      "metadata": {
        "id": "f6779643"
      },
      "source": [
        "To import and connect to a SQLite database.\n",
        "```Python\n",
        "import sqlite3\n",
        "conn = sqlite3.connect('files/dallas-ois.sqlite')\n",
        "```"
      ]
    },
    {
      "cell_type": "code",
      "execution_count": null,
      "id": "ebb87cca",
      "metadata": {
        "id": "ebb87cca"
      },
      "outputs": [],
      "source": [
        "import sqlite3"
      ]
    },
    {
      "cell_type": "code",
      "source": [
        "from google.colab import files\n",
        "\n",
        "uploaded = files.upload()"
      ],
      "metadata": {
        "colab": {
          "base_uri": "https://localhost:8080/",
          "height": 73
        },
        "id": "FiCwfFz8q9-P",
        "outputId": "de86622e-3da9-408c-fb49-ffa8fd302b39"
      },
      "id": "FiCwfFz8q9-P",
      "execution_count": null,
      "outputs": [
        {
          "output_type": "display_data",
          "data": {
            "text/plain": [
              "<IPython.core.display.HTML object>"
            ],
            "text/html": [
              "\n",
              "     <input type=\"file\" id=\"files-e52da8b2-221e-41bb-9d2d-60f99af49897\" name=\"files[]\" multiple disabled\n",
              "        style=\"border:none\" />\n",
              "     <output id=\"result-e52da8b2-221e-41bb-9d2d-60f99af49897\">\n",
              "      Upload widget is only available when the cell has been executed in the\n",
              "      current browser session. Please rerun this cell to enable.\n",
              "      </output>\n",
              "      <script>// Copyright 2017 Google LLC\n",
              "//\n",
              "// Licensed under the Apache License, Version 2.0 (the \"License\");\n",
              "// you may not use this file except in compliance with the License.\n",
              "// You may obtain a copy of the License at\n",
              "//\n",
              "//      http://www.apache.org/licenses/LICENSE-2.0\n",
              "//\n",
              "// Unless required by applicable law or agreed to in writing, software\n",
              "// distributed under the License is distributed on an \"AS IS\" BASIS,\n",
              "// WITHOUT WARRANTIES OR CONDITIONS OF ANY KIND, either express or implied.\n",
              "// See the License for the specific language governing permissions and\n",
              "// limitations under the License.\n",
              "\n",
              "/**\n",
              " * @fileoverview Helpers for google.colab Python module.\n",
              " */\n",
              "(function(scope) {\n",
              "function span(text, styleAttributes = {}) {\n",
              "  const element = document.createElement('span');\n",
              "  element.textContent = text;\n",
              "  for (const key of Object.keys(styleAttributes)) {\n",
              "    element.style[key] = styleAttributes[key];\n",
              "  }\n",
              "  return element;\n",
              "}\n",
              "\n",
              "// Max number of bytes which will be uploaded at a time.\n",
              "const MAX_PAYLOAD_SIZE = 100 * 1024;\n",
              "\n",
              "function _uploadFiles(inputId, outputId) {\n",
              "  const steps = uploadFilesStep(inputId, outputId);\n",
              "  const outputElement = document.getElementById(outputId);\n",
              "  // Cache steps on the outputElement to make it available for the next call\n",
              "  // to uploadFilesContinue from Python.\n",
              "  outputElement.steps = steps;\n",
              "\n",
              "  return _uploadFilesContinue(outputId);\n",
              "}\n",
              "\n",
              "// This is roughly an async generator (not supported in the browser yet),\n",
              "// where there are multiple asynchronous steps and the Python side is going\n",
              "// to poll for completion of each step.\n",
              "// This uses a Promise to block the python side on completion of each step,\n",
              "// then passes the result of the previous step as the input to the next step.\n",
              "function _uploadFilesContinue(outputId) {\n",
              "  const outputElement = document.getElementById(outputId);\n",
              "  const steps = outputElement.steps;\n",
              "\n",
              "  const next = steps.next(outputElement.lastPromiseValue);\n",
              "  return Promise.resolve(next.value.promise).then((value) => {\n",
              "    // Cache the last promise value to make it available to the next\n",
              "    // step of the generator.\n",
              "    outputElement.lastPromiseValue = value;\n",
              "    return next.value.response;\n",
              "  });\n",
              "}\n",
              "\n",
              "/**\n",
              " * Generator function which is called between each async step of the upload\n",
              " * process.\n",
              " * @param {string} inputId Element ID of the input file picker element.\n",
              " * @param {string} outputId Element ID of the output display.\n",
              " * @return {!Iterable<!Object>} Iterable of next steps.\n",
              " */\n",
              "function* uploadFilesStep(inputId, outputId) {\n",
              "  const inputElement = document.getElementById(inputId);\n",
              "  inputElement.disabled = false;\n",
              "\n",
              "  const outputElement = document.getElementById(outputId);\n",
              "  outputElement.innerHTML = '';\n",
              "\n",
              "  const pickedPromise = new Promise((resolve) => {\n",
              "    inputElement.addEventListener('change', (e) => {\n",
              "      resolve(e.target.files);\n",
              "    });\n",
              "  });\n",
              "\n",
              "  const cancel = document.createElement('button');\n",
              "  inputElement.parentElement.appendChild(cancel);\n",
              "  cancel.textContent = 'Cancel upload';\n",
              "  const cancelPromise = new Promise((resolve) => {\n",
              "    cancel.onclick = () => {\n",
              "      resolve(null);\n",
              "    };\n",
              "  });\n",
              "\n",
              "  // Wait for the user to pick the files.\n",
              "  const files = yield {\n",
              "    promise: Promise.race([pickedPromise, cancelPromise]),\n",
              "    response: {\n",
              "      action: 'starting',\n",
              "    }\n",
              "  };\n",
              "\n",
              "  cancel.remove();\n",
              "\n",
              "  // Disable the input element since further picks are not allowed.\n",
              "  inputElement.disabled = true;\n",
              "\n",
              "  if (!files) {\n",
              "    return {\n",
              "      response: {\n",
              "        action: 'complete',\n",
              "      }\n",
              "    };\n",
              "  }\n",
              "\n",
              "  for (const file of files) {\n",
              "    const li = document.createElement('li');\n",
              "    li.append(span(file.name, {fontWeight: 'bold'}));\n",
              "    li.append(span(\n",
              "        `(${file.type || 'n/a'}) - ${file.size} bytes, ` +\n",
              "        `last modified: ${\n",
              "            file.lastModifiedDate ? file.lastModifiedDate.toLocaleDateString() :\n",
              "                                    'n/a'} - `));\n",
              "    const percent = span('0% done');\n",
              "    li.appendChild(percent);\n",
              "\n",
              "    outputElement.appendChild(li);\n",
              "\n",
              "    const fileDataPromise = new Promise((resolve) => {\n",
              "      const reader = new FileReader();\n",
              "      reader.onload = (e) => {\n",
              "        resolve(e.target.result);\n",
              "      };\n",
              "      reader.readAsArrayBuffer(file);\n",
              "    });\n",
              "    // Wait for the data to be ready.\n",
              "    let fileData = yield {\n",
              "      promise: fileDataPromise,\n",
              "      response: {\n",
              "        action: 'continue',\n",
              "      }\n",
              "    };\n",
              "\n",
              "    // Use a chunked sending to avoid message size limits. See b/62115660.\n",
              "    let position = 0;\n",
              "    do {\n",
              "      const length = Math.min(fileData.byteLength - position, MAX_PAYLOAD_SIZE);\n",
              "      const chunk = new Uint8Array(fileData, position, length);\n",
              "      position += length;\n",
              "\n",
              "      const base64 = btoa(String.fromCharCode.apply(null, chunk));\n",
              "      yield {\n",
              "        response: {\n",
              "          action: 'append',\n",
              "          file: file.name,\n",
              "          data: base64,\n",
              "        },\n",
              "      };\n",
              "\n",
              "      let percentDone = fileData.byteLength === 0 ?\n",
              "          100 :\n",
              "          Math.round((position / fileData.byteLength) * 100);\n",
              "      percent.textContent = `${percentDone}% done`;\n",
              "\n",
              "    } while (position < fileData.byteLength);\n",
              "  }\n",
              "\n",
              "  // All done.\n",
              "  yield {\n",
              "    response: {\n",
              "      action: 'complete',\n",
              "    }\n",
              "  };\n",
              "}\n",
              "\n",
              "scope.google = scope.google || {};\n",
              "scope.google.colab = scope.google.colab || {};\n",
              "scope.google.colab._files = {\n",
              "  _uploadFiles,\n",
              "  _uploadFilesContinue,\n",
              "};\n",
              "})(self);\n",
              "</script> "
            ]
          },
          "metadata": {}
        },
        {
          "output_type": "stream",
          "name": "stdout",
          "text": [
            "Saving dallas-ois.sqlite to dallas-ois.sqlite\n"
          ]
        }
      ]
    },
    {
      "cell_type": "code",
      "source": [
        "conn = sqlite3.connect('dallas-ois.sqlite')"
      ],
      "metadata": {
        "id": "-RYOWiy1qzVo"
      },
      "id": "-RYOWiy1qzVo",
      "execution_count": null,
      "outputs": []
    },
    {
      "cell_type": "code",
      "execution_count": null,
      "id": "e86e0c1d",
      "metadata": {
        "id": "e86e0c1d"
      },
      "outputs": [],
      "source": [
        "cursor = conn.cursor()"
      ]
    },
    {
      "cell_type": "markdown",
      "id": "329dbd67",
      "metadata": {
        "id": "329dbd67"
      },
      "source": [
        "The interface to the datases is through the `cursor`.\n",
        "\n",
        "```Python\n",
        "cursor = conn.cursor()\n",
        "```\n",
        "\n",
        "The `execute` method allows to run `SQL` queries on our database.\n",
        "\n",
        "To get a list of all the tables the following query can be applied.\n",
        "\n",
        "```SQL\n",
        "SELECT name FROM sqlite_master WHERE type='table' ORDER BY name\n",
        "```\n",
        "\n",
        "The result is fetched with the `fetchall()` method."
      ]
    },
    {
      "cell_type": "code",
      "execution_count": null,
      "id": "bff884a4",
      "metadata": {
        "colab": {
          "base_uri": "https://localhost:8080/"
        },
        "id": "bff884a4",
        "outputId": "9d2defd7-084f-41cc-a9fd-2cc6973abf26"
      },
      "outputs": [
        {
          "output_type": "execute_result",
          "data": {
            "text/plain": [
              "<sqlite3.Cursor at 0x7f3605f53b40>"
            ]
          },
          "metadata": {},
          "execution_count": 6
        }
      ],
      "source": [
        "cursor.execute(\" SELECT name FROM sqlite_master WHERE type='table' ORDER BY name\")"
      ]
    },
    {
      "cell_type": "code",
      "execution_count": null,
      "id": "e28d7956",
      "metadata": {
        "colab": {
          "base_uri": "https://localhost:8080/"
        },
        "id": "e28d7956",
        "outputId": "c8b850c6-2c82-4d12-8eeb-a9a688731d47"
      },
      "outputs": [
        {
          "output_type": "execute_result",
          "data": {
            "text/plain": [
              "[('incidents',), ('officers',), ('subjects',)]"
            ]
          },
          "metadata": {},
          "execution_count": 7
        }
      ],
      "source": [
        "cursor.fetchall()"
      ]
    },
    {
      "cell_type": "code",
      "execution_count": null,
      "id": "587a2f11",
      "metadata": {
        "id": "587a2f11"
      },
      "outputs": [],
      "source": []
    },
    {
      "cell_type": "markdown",
      "id": "b424595d",
      "metadata": {
        "id": "b424595d"
      },
      "source": [
        "To get a description of a table (SQLite specific)\n",
        "\n",
        "```SQL\n",
        "PRAGMA table_info(officers)\n",
        "```"
      ]
    },
    {
      "cell_type": "code",
      "execution_count": null,
      "id": "a6ff2c13",
      "metadata": {
        "colab": {
          "base_uri": "https://localhost:8080/"
        },
        "id": "a6ff2c13",
        "outputId": "38fc57e0-30c3-4d03-e7f0-9a07ac1f78f2"
      },
      "outputs": [
        {
          "output_type": "execute_result",
          "data": {
            "text/plain": [
              "[(0, 'case_number', 'TEXT', 0, None, 0),\n",
              " (1, 'race', 'TEXT', 0, None, 0),\n",
              " (2, 'gender', 'TEXT', 0, None, 0),\n",
              " (3, 'last_name', 'TEXT', 0, None, 0),\n",
              " (4, 'first_name', 'TEXT', 0, None, 0),\n",
              " (5, 'full_name', 'TEXT', 0, None, 0)]"
            ]
          },
          "metadata": {},
          "execution_count": 8
        }
      ],
      "source": [
        "cursor.execute(\"PRAGMA table_info(officers)\").fetchall()"
      ]
    },
    {
      "cell_type": "code",
      "execution_count": null,
      "id": "d80313b9",
      "metadata": {
        "id": "d80313b9"
      },
      "outputs": [],
      "source": []
    },
    {
      "cell_type": "markdown",
      "id": "b9cc3c8c",
      "metadata": {
        "id": "b9cc3c8c"
      },
      "source": [
        "### SQL syntax\n",
        "Get all data from table\n",
        "```SQL\n",
        "SELECT * FROM table_name\n",
        "```\n",
        "\n",
        "Limit the response\n",
        "```SQL\n",
        "SELECT * FROM table_name LIMIT 100\n",
        "```\n",
        "\n",
        "Filter data\n",
        "```SQL\n",
        "SELECT * FROM table_name WHERE column_name > 1\n",
        "```"
      ]
    },
    {
      "cell_type": "markdown",
      "id": "9a25d394",
      "metadata": {
        "id": "9a25d394"
      },
      "source": [
        "### Import data into DataFrame\n",
        "Example of how to read data into a DataFrame from a SQL statement\n",
        "```Python\n",
        "import pandas as pd\n",
        "\n",
        "officers = pd.read_sql('SELECT * FROM officers', conn)\n",
        "```"
      ]
    },
    {
      "cell_type": "code",
      "execution_count": null,
      "id": "13811394",
      "metadata": {
        "id": "13811394"
      },
      "outputs": [],
      "source": [
        "import pandas as pd\n",
        "\n",
        "officers = pd.read_sql('SELECT * FROM officers', conn)"
      ]
    },
    {
      "cell_type": "code",
      "execution_count": null,
      "id": "6f3f663f",
      "metadata": {
        "colab": {
          "base_uri": "https://localhost:8080/",
          "height": 206
        },
        "id": "6f3f663f",
        "outputId": "1ab99d57-301b-4e6b-c5ce-e08d263fbfec"
      },
      "outputs": [
        {
          "output_type": "execute_result",
          "data": {
            "text/plain": [
              "  case_number race gender  last_name first_name         full_name\n",
              "0      44523A    L      M     Patino    Michael   Patino, Michael\n",
              "1      44523A    W      M  Fillingim      Brian  Fillingim, Brian\n",
              "2     121982X    L      M    Padilla    Gilbert  Padilla, Gilbert\n",
              "3     605484T    W      M     Poston      Jerry     Poston, Jerry\n",
              "4     384832T    B      M      Mondy    Michael    Mondy, Michael"
            ],
            "text/html": [
              "\n",
              "  <div id=\"df-a3d3c702-cf5d-4978-b576-c3655e445605\">\n",
              "    <div class=\"colab-df-container\">\n",
              "      <div>\n",
              "<style scoped>\n",
              "    .dataframe tbody tr th:only-of-type {\n",
              "        vertical-align: middle;\n",
              "    }\n",
              "\n",
              "    .dataframe tbody tr th {\n",
              "        vertical-align: top;\n",
              "    }\n",
              "\n",
              "    .dataframe thead th {\n",
              "        text-align: right;\n",
              "    }\n",
              "</style>\n",
              "<table border=\"1\" class=\"dataframe\">\n",
              "  <thead>\n",
              "    <tr style=\"text-align: right;\">\n",
              "      <th></th>\n",
              "      <th>case_number</th>\n",
              "      <th>race</th>\n",
              "      <th>gender</th>\n",
              "      <th>last_name</th>\n",
              "      <th>first_name</th>\n",
              "      <th>full_name</th>\n",
              "    </tr>\n",
              "  </thead>\n",
              "  <tbody>\n",
              "    <tr>\n",
              "      <th>0</th>\n",
              "      <td>44523A</td>\n",
              "      <td>L</td>\n",
              "      <td>M</td>\n",
              "      <td>Patino</td>\n",
              "      <td>Michael</td>\n",
              "      <td>Patino, Michael</td>\n",
              "    </tr>\n",
              "    <tr>\n",
              "      <th>1</th>\n",
              "      <td>44523A</td>\n",
              "      <td>W</td>\n",
              "      <td>M</td>\n",
              "      <td>Fillingim</td>\n",
              "      <td>Brian</td>\n",
              "      <td>Fillingim, Brian</td>\n",
              "    </tr>\n",
              "    <tr>\n",
              "      <th>2</th>\n",
              "      <td>121982X</td>\n",
              "      <td>L</td>\n",
              "      <td>M</td>\n",
              "      <td>Padilla</td>\n",
              "      <td>Gilbert</td>\n",
              "      <td>Padilla, Gilbert</td>\n",
              "    </tr>\n",
              "    <tr>\n",
              "      <th>3</th>\n",
              "      <td>605484T</td>\n",
              "      <td>W</td>\n",
              "      <td>M</td>\n",
              "      <td>Poston</td>\n",
              "      <td>Jerry</td>\n",
              "      <td>Poston, Jerry</td>\n",
              "    </tr>\n",
              "    <tr>\n",
              "      <th>4</th>\n",
              "      <td>384832T</td>\n",
              "      <td>B</td>\n",
              "      <td>M</td>\n",
              "      <td>Mondy</td>\n",
              "      <td>Michael</td>\n",
              "      <td>Mondy, Michael</td>\n",
              "    </tr>\n",
              "  </tbody>\n",
              "</table>\n",
              "</div>\n",
              "      <button class=\"colab-df-convert\" onclick=\"convertToInteractive('df-a3d3c702-cf5d-4978-b576-c3655e445605')\"\n",
              "              title=\"Convert this dataframe to an interactive table.\"\n",
              "              style=\"display:none;\">\n",
              "        \n",
              "  <svg xmlns=\"http://www.w3.org/2000/svg\" height=\"24px\"viewBox=\"0 0 24 24\"\n",
              "       width=\"24px\">\n",
              "    <path d=\"M0 0h24v24H0V0z\" fill=\"none\"/>\n",
              "    <path d=\"M18.56 5.44l.94 2.06.94-2.06 2.06-.94-2.06-.94-.94-2.06-.94 2.06-2.06.94zm-11 1L8.5 8.5l.94-2.06 2.06-.94-2.06-.94L8.5 2.5l-.94 2.06-2.06.94zm10 10l.94 2.06.94-2.06 2.06-.94-2.06-.94-.94-2.06-.94 2.06-2.06.94z\"/><path d=\"M17.41 7.96l-1.37-1.37c-.4-.4-.92-.59-1.43-.59-.52 0-1.04.2-1.43.59L10.3 9.45l-7.72 7.72c-.78.78-.78 2.05 0 2.83L4 21.41c.39.39.9.59 1.41.59.51 0 1.02-.2 1.41-.59l7.78-7.78 2.81-2.81c.8-.78.8-2.07 0-2.86zM5.41 20L4 18.59l7.72-7.72 1.47 1.35L5.41 20z\"/>\n",
              "  </svg>\n",
              "      </button>\n",
              "      \n",
              "  <style>\n",
              "    .colab-df-container {\n",
              "      display:flex;\n",
              "      flex-wrap:wrap;\n",
              "      gap: 12px;\n",
              "    }\n",
              "\n",
              "    .colab-df-convert {\n",
              "      background-color: #E8F0FE;\n",
              "      border: none;\n",
              "      border-radius: 50%;\n",
              "      cursor: pointer;\n",
              "      display: none;\n",
              "      fill: #1967D2;\n",
              "      height: 32px;\n",
              "      padding: 0 0 0 0;\n",
              "      width: 32px;\n",
              "    }\n",
              "\n",
              "    .colab-df-convert:hover {\n",
              "      background-color: #E2EBFA;\n",
              "      box-shadow: 0px 1px 2px rgba(60, 64, 67, 0.3), 0px 1px 3px 1px rgba(60, 64, 67, 0.15);\n",
              "      fill: #174EA6;\n",
              "    }\n",
              "\n",
              "    [theme=dark] .colab-df-convert {\n",
              "      background-color: #3B4455;\n",
              "      fill: #D2E3FC;\n",
              "    }\n",
              "\n",
              "    [theme=dark] .colab-df-convert:hover {\n",
              "      background-color: #434B5C;\n",
              "      box-shadow: 0px 1px 3px 1px rgba(0, 0, 0, 0.15);\n",
              "      filter: drop-shadow(0px 1px 2px rgba(0, 0, 0, 0.3));\n",
              "      fill: #FFFFFF;\n",
              "    }\n",
              "  </style>\n",
              "\n",
              "      <script>\n",
              "        const buttonEl =\n",
              "          document.querySelector('#df-a3d3c702-cf5d-4978-b576-c3655e445605 button.colab-df-convert');\n",
              "        buttonEl.style.display =\n",
              "          google.colab.kernel.accessAllowed ? 'block' : 'none';\n",
              "\n",
              "        async function convertToInteractive(key) {\n",
              "          const element = document.querySelector('#df-a3d3c702-cf5d-4978-b576-c3655e445605');\n",
              "          const dataTable =\n",
              "            await google.colab.kernel.invokeFunction('convertToInteractive',\n",
              "                                                     [key], {});\n",
              "          if (!dataTable) return;\n",
              "\n",
              "          const docLinkHtml = 'Like what you see? Visit the ' +\n",
              "            '<a target=\"_blank\" href=https://colab.research.google.com/notebooks/data_table.ipynb>data table notebook</a>'\n",
              "            + ' to learn more about interactive tables.';\n",
              "          element.innerHTML = '';\n",
              "          dataTable['output_type'] = 'display_data';\n",
              "          await google.colab.output.renderOutput(dataTable, element);\n",
              "          const docLink = document.createElement('div');\n",
              "          docLink.innerHTML = docLinkHtml;\n",
              "          element.appendChild(docLink);\n",
              "        }\n",
              "      </script>\n",
              "    </div>\n",
              "  </div>\n",
              "  "
            ]
          },
          "metadata": {},
          "execution_count": 10
        }
      ],
      "source": [
        "officers.head()"
      ]
    },
    {
      "cell_type": "code",
      "execution_count": null,
      "id": "b571b38a",
      "metadata": {
        "id": "b571b38a"
      },
      "outputs": [],
      "source": []
    },
    {
      "cell_type": "markdown",
      "id": "1119602f",
      "metadata": {
        "id": "1119602f"
      },
      "source": [
        "### SQL join syntax\n",
        "`(INNER) JOIN`: returns records that have matching values in both tables\n",
        "```SQL\n",
        "SELECT * FROM table_1 JOIN table_2 ON table_1.column_name_1=table_2.column_name_2\n",
        "```\n",
        "\n",
        "`LEFT JOIN`: returns all records from the left table, and the matched records from the right table\n",
        "```SQL\n",
        "SELECT * FROM table_1 LEFT JOIN table_2 ON table_1.column_name_1=table_2.column_name_2\n",
        "```"
      ]
    },
    {
      "cell_type": "code",
      "execution_count": null,
      "id": "53a06d35",
      "metadata": {
        "id": "53a06d35"
      },
      "outputs": [],
      "source": [
        "officers2 = pd.read_sql('SELECT * FROM officers JOIN incidents ON officers.case_number = incidents.case_number ', conn)"
      ]
    },
    {
      "cell_type": "code",
      "execution_count": null,
      "id": "2981b9b9",
      "metadata": {
        "colab": {
          "base_uri": "https://localhost:8080/",
          "height": 629
        },
        "id": "2981b9b9",
        "outputId": "15a3f64e-d8db-4caf-fbd8-e074af594b77"
      },
      "outputs": [
        {
          "output_type": "execute_result",
          "data": {
            "text/plain": [
              "  case_number race gender  last_name first_name         full_name case_number  \\\n",
              "0      44523A    L      M     Patino    Michael   Patino, Michael      44523A   \n",
              "1      44523A    W      M  Fillingim      Brian  Fillingim, Brian      44523A   \n",
              "2     121982X    L      M    Padilla    Gilbert  Padilla, Gilbert     121982X   \n",
              "3     605484T    W      M     Poston      Jerry     Poston, Jerry     605484T   \n",
              "4     384832T    B      M      Mondy    Michael    Mondy, Michael     384832T   \n",
              "\n",
              "         date                  location subject_statuses  ...  \\\n",
              "0  2013-02-23     3000 Chihuahua Street          Injured  ...   \n",
              "1  2013-02-23     3000 Chihuahua Street          Injured  ...   \n",
              "2  2010-05-03  1300 N. Munger Boulevard          Injured  ...   \n",
              "3  2007-08-12   200 S. Stemmons Freeway            Other  ...   \n",
              "4  2007-05-26           7900 S. Loop 12   Shoot and Miss  ...   \n",
              "\n",
              "                                            subjects subject_count  \\\n",
              "0                                   Curry, James L/M             1   \n",
              "1                                   Curry, James L/M             1   \n",
              "2                                Chavez, Gabriel L/M             1   \n",
              "3                                  Salinas, Nick L/M             1   \n",
              "4  Smith, James B/M; Dews, Antonio B/M; Spearman,...             3   \n",
              "\n",
              "                                    officers officer_count  \\\n",
              "0  Patino, Michael L/M; Fillingim, Brian W/M             2   \n",
              "1  Patino, Michael L/M; Fillingim, Brian W/M             2   \n",
              "2                       Padilla, Gilbert L/M             1   \n",
              "3                          Poston, Jerry W/M             1   \n",
              "4                         Mondy, Michael B/M             1   \n",
              "\n",
              "   grand_jury_disposition attorney_general_forms_url  \\\n",
              "0                 No Bill                       None   \n",
              "1                 No Bill                       None   \n",
              "2                 No Bill                       None   \n",
              "3             See Summary                       None   \n",
              "4                    None                       None   \n",
              "\n",
              "                                         summary_url  \\\n",
              "0  http://dallaspolice.net/reports/OIS/narrative/...   \n",
              "1  http://dallaspolice.net/reports/OIS/narrative/...   \n",
              "2  http://dallaspolice.net/reports/OIS/narrative/...   \n",
              "3  http://dallaspolice.net/reports/OIS/narrative/...   \n",
              "4  http://dallaspolice.net/reports/OIS/narrative/...   \n",
              "\n",
              "                                        summary_text latitude  longitude  \n",
              "0  On Saturday, February 23, 2013, at approximate...      NaN        NaN  \n",
              "1  On Saturday, February 23, 2013, at approximate...      NaN        NaN  \n",
              "2  On Monday, May 3, 2010, at approximately 8:06 ...      NaN        NaN  \n",
              "3  On Sunday, August 12, 2007, at approximately 2...      NaN        NaN  \n",
              "4  On Saturday, May 26, 2007, at approximately 1:...      NaN        NaN  \n",
              "\n",
              "[5 rows x 21 columns]"
            ],
            "text/html": [
              "\n",
              "  <div id=\"df-17f39def-93c4-4ce1-bb14-c4e5280afbc0\">\n",
              "    <div class=\"colab-df-container\">\n",
              "      <div>\n",
              "<style scoped>\n",
              "    .dataframe tbody tr th:only-of-type {\n",
              "        vertical-align: middle;\n",
              "    }\n",
              "\n",
              "    .dataframe tbody tr th {\n",
              "        vertical-align: top;\n",
              "    }\n",
              "\n",
              "    .dataframe thead th {\n",
              "        text-align: right;\n",
              "    }\n",
              "</style>\n",
              "<table border=\"1\" class=\"dataframe\">\n",
              "  <thead>\n",
              "    <tr style=\"text-align: right;\">\n",
              "      <th></th>\n",
              "      <th>case_number</th>\n",
              "      <th>race</th>\n",
              "      <th>gender</th>\n",
              "      <th>last_name</th>\n",
              "      <th>first_name</th>\n",
              "      <th>full_name</th>\n",
              "      <th>case_number</th>\n",
              "      <th>date</th>\n",
              "      <th>location</th>\n",
              "      <th>subject_statuses</th>\n",
              "      <th>...</th>\n",
              "      <th>subjects</th>\n",
              "      <th>subject_count</th>\n",
              "      <th>officers</th>\n",
              "      <th>officer_count</th>\n",
              "      <th>grand_jury_disposition</th>\n",
              "      <th>attorney_general_forms_url</th>\n",
              "      <th>summary_url</th>\n",
              "      <th>summary_text</th>\n",
              "      <th>latitude</th>\n",
              "      <th>longitude</th>\n",
              "    </tr>\n",
              "  </thead>\n",
              "  <tbody>\n",
              "    <tr>\n",
              "      <th>0</th>\n",
              "      <td>44523A</td>\n",
              "      <td>L</td>\n",
              "      <td>M</td>\n",
              "      <td>Patino</td>\n",
              "      <td>Michael</td>\n",
              "      <td>Patino, Michael</td>\n",
              "      <td>44523A</td>\n",
              "      <td>2013-02-23</td>\n",
              "      <td>3000 Chihuahua Street</td>\n",
              "      <td>Injured</td>\n",
              "      <td>...</td>\n",
              "      <td>Curry, James L/M</td>\n",
              "      <td>1</td>\n",
              "      <td>Patino, Michael L/M; Fillingim, Brian W/M</td>\n",
              "      <td>2</td>\n",
              "      <td>No Bill</td>\n",
              "      <td>None</td>\n",
              "      <td>http://dallaspolice.net/reports/OIS/narrative/...</td>\n",
              "      <td>On Saturday, February 23, 2013, at approximate...</td>\n",
              "      <td>NaN</td>\n",
              "      <td>NaN</td>\n",
              "    </tr>\n",
              "    <tr>\n",
              "      <th>1</th>\n",
              "      <td>44523A</td>\n",
              "      <td>W</td>\n",
              "      <td>M</td>\n",
              "      <td>Fillingim</td>\n",
              "      <td>Brian</td>\n",
              "      <td>Fillingim, Brian</td>\n",
              "      <td>44523A</td>\n",
              "      <td>2013-02-23</td>\n",
              "      <td>3000 Chihuahua Street</td>\n",
              "      <td>Injured</td>\n",
              "      <td>...</td>\n",
              "      <td>Curry, James L/M</td>\n",
              "      <td>1</td>\n",
              "      <td>Patino, Michael L/M; Fillingim, Brian W/M</td>\n",
              "      <td>2</td>\n",
              "      <td>No Bill</td>\n",
              "      <td>None</td>\n",
              "      <td>http://dallaspolice.net/reports/OIS/narrative/...</td>\n",
              "      <td>On Saturday, February 23, 2013, at approximate...</td>\n",
              "      <td>NaN</td>\n",
              "      <td>NaN</td>\n",
              "    </tr>\n",
              "    <tr>\n",
              "      <th>2</th>\n",
              "      <td>121982X</td>\n",
              "      <td>L</td>\n",
              "      <td>M</td>\n",
              "      <td>Padilla</td>\n",
              "      <td>Gilbert</td>\n",
              "      <td>Padilla, Gilbert</td>\n",
              "      <td>121982X</td>\n",
              "      <td>2010-05-03</td>\n",
              "      <td>1300 N. Munger Boulevard</td>\n",
              "      <td>Injured</td>\n",
              "      <td>...</td>\n",
              "      <td>Chavez, Gabriel L/M</td>\n",
              "      <td>1</td>\n",
              "      <td>Padilla, Gilbert L/M</td>\n",
              "      <td>1</td>\n",
              "      <td>No Bill</td>\n",
              "      <td>None</td>\n",
              "      <td>http://dallaspolice.net/reports/OIS/narrative/...</td>\n",
              "      <td>On Monday, May 3, 2010, at approximately 8:06 ...</td>\n",
              "      <td>NaN</td>\n",
              "      <td>NaN</td>\n",
              "    </tr>\n",
              "    <tr>\n",
              "      <th>3</th>\n",
              "      <td>605484T</td>\n",
              "      <td>W</td>\n",
              "      <td>M</td>\n",
              "      <td>Poston</td>\n",
              "      <td>Jerry</td>\n",
              "      <td>Poston, Jerry</td>\n",
              "      <td>605484T</td>\n",
              "      <td>2007-08-12</td>\n",
              "      <td>200 S. Stemmons Freeway</td>\n",
              "      <td>Other</td>\n",
              "      <td>...</td>\n",
              "      <td>Salinas, Nick L/M</td>\n",
              "      <td>1</td>\n",
              "      <td>Poston, Jerry W/M</td>\n",
              "      <td>1</td>\n",
              "      <td>See Summary</td>\n",
              "      <td>None</td>\n",
              "      <td>http://dallaspolice.net/reports/OIS/narrative/...</td>\n",
              "      <td>On Sunday, August 12, 2007, at approximately 2...</td>\n",
              "      <td>NaN</td>\n",
              "      <td>NaN</td>\n",
              "    </tr>\n",
              "    <tr>\n",
              "      <th>4</th>\n",
              "      <td>384832T</td>\n",
              "      <td>B</td>\n",
              "      <td>M</td>\n",
              "      <td>Mondy</td>\n",
              "      <td>Michael</td>\n",
              "      <td>Mondy, Michael</td>\n",
              "      <td>384832T</td>\n",
              "      <td>2007-05-26</td>\n",
              "      <td>7900 S. Loop 12</td>\n",
              "      <td>Shoot and Miss</td>\n",
              "      <td>...</td>\n",
              "      <td>Smith, James B/M; Dews, Antonio B/M; Spearman,...</td>\n",
              "      <td>3</td>\n",
              "      <td>Mondy, Michael B/M</td>\n",
              "      <td>1</td>\n",
              "      <td>None</td>\n",
              "      <td>None</td>\n",
              "      <td>http://dallaspolice.net/reports/OIS/narrative/...</td>\n",
              "      <td>On Saturday, May 26, 2007, at approximately 1:...</td>\n",
              "      <td>NaN</td>\n",
              "      <td>NaN</td>\n",
              "    </tr>\n",
              "  </tbody>\n",
              "</table>\n",
              "<p>5 rows × 21 columns</p>\n",
              "</div>\n",
              "      <button class=\"colab-df-convert\" onclick=\"convertToInteractive('df-17f39def-93c4-4ce1-bb14-c4e5280afbc0')\"\n",
              "              title=\"Convert this dataframe to an interactive table.\"\n",
              "              style=\"display:none;\">\n",
              "        \n",
              "  <svg xmlns=\"http://www.w3.org/2000/svg\" height=\"24px\"viewBox=\"0 0 24 24\"\n",
              "       width=\"24px\">\n",
              "    <path d=\"M0 0h24v24H0V0z\" fill=\"none\"/>\n",
              "    <path d=\"M18.56 5.44l.94 2.06.94-2.06 2.06-.94-2.06-.94-.94-2.06-.94 2.06-2.06.94zm-11 1L8.5 8.5l.94-2.06 2.06-.94-2.06-.94L8.5 2.5l-.94 2.06-2.06.94zm10 10l.94 2.06.94-2.06 2.06-.94-2.06-.94-.94-2.06-.94 2.06-2.06.94z\"/><path d=\"M17.41 7.96l-1.37-1.37c-.4-.4-.92-.59-1.43-.59-.52 0-1.04.2-1.43.59L10.3 9.45l-7.72 7.72c-.78.78-.78 2.05 0 2.83L4 21.41c.39.39.9.59 1.41.59.51 0 1.02-.2 1.41-.59l7.78-7.78 2.81-2.81c.8-.78.8-2.07 0-2.86zM5.41 20L4 18.59l7.72-7.72 1.47 1.35L5.41 20z\"/>\n",
              "  </svg>\n",
              "      </button>\n",
              "      \n",
              "  <style>\n",
              "    .colab-df-container {\n",
              "      display:flex;\n",
              "      flex-wrap:wrap;\n",
              "      gap: 12px;\n",
              "    }\n",
              "\n",
              "    .colab-df-convert {\n",
              "      background-color: #E8F0FE;\n",
              "      border: none;\n",
              "      border-radius: 50%;\n",
              "      cursor: pointer;\n",
              "      display: none;\n",
              "      fill: #1967D2;\n",
              "      height: 32px;\n",
              "      padding: 0 0 0 0;\n",
              "      width: 32px;\n",
              "    }\n",
              "\n",
              "    .colab-df-convert:hover {\n",
              "      background-color: #E2EBFA;\n",
              "      box-shadow: 0px 1px 2px rgba(60, 64, 67, 0.3), 0px 1px 3px 1px rgba(60, 64, 67, 0.15);\n",
              "      fill: #174EA6;\n",
              "    }\n",
              "\n",
              "    [theme=dark] .colab-df-convert {\n",
              "      background-color: #3B4455;\n",
              "      fill: #D2E3FC;\n",
              "    }\n",
              "\n",
              "    [theme=dark] .colab-df-convert:hover {\n",
              "      background-color: #434B5C;\n",
              "      box-shadow: 0px 1px 3px 1px rgba(0, 0, 0, 0.15);\n",
              "      filter: drop-shadow(0px 1px 2px rgba(0, 0, 0, 0.3));\n",
              "      fill: #FFFFFF;\n",
              "    }\n",
              "  </style>\n",
              "\n",
              "      <script>\n",
              "        const buttonEl =\n",
              "          document.querySelector('#df-17f39def-93c4-4ce1-bb14-c4e5280afbc0 button.colab-df-convert');\n",
              "        buttonEl.style.display =\n",
              "          google.colab.kernel.accessAllowed ? 'block' : 'none';\n",
              "\n",
              "        async function convertToInteractive(key) {\n",
              "          const element = document.querySelector('#df-17f39def-93c4-4ce1-bb14-c4e5280afbc0');\n",
              "          const dataTable =\n",
              "            await google.colab.kernel.invokeFunction('convertToInteractive',\n",
              "                                                     [key], {});\n",
              "          if (!dataTable) return;\n",
              "\n",
              "          const docLinkHtml = 'Like what you see? Visit the ' +\n",
              "            '<a target=\"_blank\" href=https://colab.research.google.com/notebooks/data_table.ipynb>data table notebook</a>'\n",
              "            + ' to learn more about interactive tables.';\n",
              "          element.innerHTML = '';\n",
              "          dataTable['output_type'] = 'display_data';\n",
              "          await google.colab.output.renderOutput(dataTable, element);\n",
              "          const docLink = document.createElement('div');\n",
              "          docLink.innerHTML = docLinkHtml;\n",
              "          element.appendChild(docLink);\n",
              "        }\n",
              "      </script>\n",
              "    </div>\n",
              "  </div>\n",
              "  "
            ]
          },
          "metadata": {},
          "execution_count": 12
        }
      ],
      "source": [
        "officers2.head()"
      ]
    },
    {
      "cell_type": "code",
      "execution_count": null,
      "id": "98af123c",
      "metadata": {
        "id": "98af123c"
      },
      "outputs": [],
      "source": [
        "incidents = pd.read_sql(\"SELECT * FROM incidents\", conn)"
      ]
    },
    {
      "cell_type": "code",
      "execution_count": null,
      "id": "f0388d96",
      "metadata": {
        "colab": {
          "base_uri": "https://localhost:8080/"
        },
        "id": "f0388d96",
        "outputId": "025c9b57-0e4b-4ed3-8d8f-ee13bb4692a8"
      },
      "outputs": [
        {
          "output_type": "execute_result",
          "data": {
            "text/plain": [
              "(219, 15)"
            ]
          },
          "metadata": {},
          "execution_count": 14
        }
      ],
      "source": [
        "incidents.shape"
      ]
    },
    {
      "cell_type": "code",
      "execution_count": null,
      "id": "2ab7ff83",
      "metadata": {
        "id": "2ab7ff83"
      },
      "outputs": [],
      "source": [
        "subjects = pd.read_sql(\"SELECT * FROM subjects\", conn)"
      ]
    },
    {
      "cell_type": "code",
      "execution_count": null,
      "id": "c51c462b",
      "metadata": {
        "colab": {
          "base_uri": "https://localhost:8080/"
        },
        "id": "c51c462b",
        "outputId": "866051aa-9294-4ca5-ce9a-e15c6ca65f1e"
      },
      "outputs": [
        {
          "output_type": "execute_result",
          "data": {
            "text/plain": [
              "(223, 6)"
            ]
          },
          "metadata": {},
          "execution_count": 16
        }
      ],
      "source": [
        "subjects.shape"
      ]
    },
    {
      "cell_type": "code",
      "execution_count": null,
      "id": "067be7e7",
      "metadata": {
        "id": "067be7e7"
      },
      "outputs": [],
      "source": []
    }
  ],
  "metadata": {
    "kernelspec": {
      "display_name": "Python 3 (ipykernel)",
      "language": "python",
      "name": "python3"
    },
    "language_info": {
      "codemirror_mode": {
        "name": "ipython",
        "version": 3
      },
      "file_extension": ".py",
      "mimetype": "text/x-python",
      "name": "python",
      "nbconvert_exporter": "python",
      "pygments_lexer": "ipython3",
      "version": "3.8.8"
    },
    "colab": {
      "provenance": [],
      "include_colab_link": true
    }
  },
  "nbformat": 4,
  "nbformat_minor": 5
}